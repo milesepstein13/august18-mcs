{
 "cells": [
  {
   "cell_type": "code",
   "execution_count": null,
   "id": "2b064005",
   "metadata": {},
   "outputs": [],
   "source": [
    "from PIL import Image\n",
    "import os\n",
    "from datetime import datetime, timedelta\n"
   ]
  },
  {
   "cell_type": "code",
   "execution_count": 5,
   "id": "3c4c5bd9",
   "metadata": {},
   "outputs": [],
   "source": [
    "# Open the GIF\n",
    "gif_path = \"tracking_loops/mrms_event_loop.gif\"\n",
    "output_dir = \"tracking_loops/split/mrms_event_loop\"\n",
    "\n",
    "# Create output directory if it doesn't exist\n",
    "os.makedirs(output_dir, exist_ok=True)\n",
    "\n",
    "start_time = datetime(2024, 8, 17, 20, 00)  # year, month, day, hour, minute\n",
    "timestep_minutes = 10  # timestep between frames\n",
    "\n",
    "# Open the GIF and extract frames with proper timestamps\n",
    "with Image.open(gif_path) as im:\n",
    "    for frame in range(im.n_frames):\n",
    "        im.seek(frame)\n",
    "        frame_image = im.convert(\"RGBA\")\n",
    "        \n",
    "        # Compute timestamp\n",
    "        current_time = start_time + timedelta(minutes=frame * timestep_minutes)\n",
    "        formatted_time = current_time.strftime(\"%d%H%M\")  # e.g., 171250 for June 17, 12:50\n",
    "        \n",
    "        # Save frame\n",
    "        frame_image.save(f\"{output_dir}/{formatted_time}.png\")"
   ]
  }
 ],
 "metadata": {
  "kernelspec": {
   "display_name": "Python 3",
   "language": "python",
   "name": "python3"
  },
  "language_info": {
   "codemirror_mode": {
    "name": "ipython",
    "version": 3
   },
   "file_extension": ".py",
   "mimetype": "text/x-python",
   "name": "python",
   "nbconvert_exporter": "python",
   "pygments_lexer": "ipython3",
   "version": "3.10.16"
  }
 },
 "nbformat": 4,
 "nbformat_minor": 5
}
